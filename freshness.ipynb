{
 "cells": [
  {
   "cell_type": "code",
   "execution_count": 2,
   "metadata": {},
   "outputs": [
    {
     "name": "stdout",
     "output_type": "stream",
     "text": [
      "Found 1246 images belonging to 2 classes.\n",
      "Found 596 images belonging to 2 classes.\n"
     ]
    },
    {
     "name": "stderr",
     "output_type": "stream",
     "text": [
      "d:\\python\\Lib\\site-packages\\keras\\optimizers\\legacy\\adam.py:117: UserWarning: The `lr` argument is deprecated, use `learning_rate` instead.\n",
      "  super().__init__(name, **kwargs)\n"
     ]
    },
    {
     "name": "stdout",
     "output_type": "stream",
     "text": [
      "Epoch 1/10\n",
      "38/38 [==============================] - 20s 506ms/step - loss: 0.4772 - accuracy: 0.7677 - val_loss: 0.5528 - val_accuracy: 0.7917\n",
      "Epoch 2/10\n",
      "38/38 [==============================] - 12s 319ms/step - loss: 0.2490 - accuracy: 0.9135 - val_loss: 0.6637 - val_accuracy: 0.8038\n",
      "Epoch 3/10\n",
      "38/38 [==============================] - 12s 306ms/step - loss: 0.1796 - accuracy: 0.9316 - val_loss: 0.6862 - val_accuracy: 0.8524\n",
      "Epoch 4/10\n",
      "38/38 [==============================] - 14s 354ms/step - loss: 0.1592 - accuracy: 0.9399 - val_loss: 0.4976 - val_accuracy: 0.8542\n",
      "Epoch 5/10\n",
      "38/38 [==============================] - 12s 307ms/step - loss: 0.1702 - accuracy: 0.9366 - val_loss: 0.6823 - val_accuracy: 0.8594\n",
      "Epoch 6/10\n",
      "38/38 [==============================] - 11s 301ms/step - loss: 0.1504 - accuracy: 0.9432 - val_loss: 0.8853 - val_accuracy: 0.8559\n",
      "Epoch 7/10\n",
      "38/38 [==============================] - 11s 301ms/step - loss: 0.1578 - accuracy: 0.9481 - val_loss: 0.6679 - val_accuracy: 0.8299\n",
      "Epoch 8/10\n",
      "38/38 [==============================] - 11s 300ms/step - loss: 0.1506 - accuracy: 0.9473 - val_loss: 0.9153 - val_accuracy: 0.8333\n",
      "Epoch 9/10\n",
      "38/38 [==============================] - 11s 296ms/step - loss: 0.1116 - accuracy: 0.9588 - val_loss: 0.9584 - val_accuracy: 0.8038\n",
      "Epoch 10/10\n",
      "38/38 [==============================] - 11s 280ms/step - loss: 0.1252 - accuracy: 0.9506 - val_loss: 1.2314 - val_accuracy: 0.7986\n",
      "19/19 [==============================] - 1s 74ms/step - loss: 1.2021 - accuracy: 0.8020\n",
      "Test Accuracy: 0.8020133972167969\n"
     ]
    },
    {
     "ename": "KeyError",
     "evalue": "'accuracy'",
     "output_type": "error",
     "traceback": [
      "\u001b[1;31m---------------------------------------------------------------------------\u001b[0m",
      "\u001b[1;31mKeyError\u001b[0m                                  Traceback (most recent call last)",
      "Cell \u001b[1;32mIn[2], line 76\u001b[0m\n\u001b[0;32m     73\u001b[0m \u001b[38;5;28;01mimport\u001b[39;00m \u001b[38;5;21;01mmatplotlib\u001b[39;00m\u001b[38;5;21;01m.\u001b[39;00m\u001b[38;5;21;01mpyplot\u001b[39;00m \u001b[38;5;28;01mas\u001b[39;00m \u001b[38;5;21;01mplt\u001b[39;00m\n\u001b[0;32m     75\u001b[0m \u001b[38;5;66;03m# Get training and validation accuracy\u001b[39;00m\n\u001b[1;32m---> 76\u001b[0m train_accuracy \u001b[38;5;241m=\u001b[39m \u001b[43mmodel\u001b[49m\u001b[38;5;241;43m.\u001b[39;49m\u001b[43mhistory\u001b[49m\u001b[38;5;241;43m.\u001b[39;49m\u001b[43mhistory\u001b[49m\u001b[43m[\u001b[49m\u001b[38;5;124;43m'\u001b[39;49m\u001b[38;5;124;43maccuracy\u001b[39;49m\u001b[38;5;124;43m'\u001b[39;49m\u001b[43m]\u001b[49m\n\u001b[0;32m     77\u001b[0m val_accuracy \u001b[38;5;241m=\u001b[39m model\u001b[38;5;241m.\u001b[39mhistory\u001b[38;5;241m.\u001b[39mhistory[\u001b[38;5;124m'\u001b[39m\u001b[38;5;124mval_accuracy\u001b[39m\u001b[38;5;124m'\u001b[39m]\n\u001b[0;32m     79\u001b[0m \u001b[38;5;66;03m# Get training and validation loss\u001b[39;00m\n",
      "\u001b[1;31mKeyError\u001b[0m: 'accuracy'"
     ]
    }
   ],
   "source": [
    "#APPLE\n",
    "\n",
    "from keras.preprocessing.image import ImageDataGenerator\n",
    "from keras.models import Sequential\n",
    "from keras.layers import Conv2D, MaxPooling2D, Flatten, Dense, Dropout\n",
    "from keras.optimizers import Adam\n",
    "from sklearn.model_selection import train_test_split\n",
    "\n",
    "# Split dataset into training and testing sets\n",
    "train_dir = \"C:/Users/avi11/Downloads/Dataset/Apple/train\"\n",
    "test_dir = \"C:/Users/avi11/Downloads/Dataset/Apple/test\"\n",
    "\n",
    "# Define data generators\n",
    "train_datagen = ImageDataGenerator(\n",
    "    rescale=1./255,\n",
    "    rotation_range=20,\n",
    "    width_shift_range=0.1,\n",
    "    height_shift_range=0.1,\n",
    "    shear_range=0.2,\n",
    "    zoom_range=0.2,\n",
    "    horizontal_flip=True\n",
    ")\n",
    "\n",
    "test_datagen = ImageDataGenerator(rescale=1./255)\n",
    "\n",
    "# Load and augment training data\n",
    "train_generator = train_datagen.flow_from_directory(\n",
    "    train_dir,\n",
    "    target_size=(100, 100),\n",
    "    batch_size=32,\n",
    "    class_mode='binary'\n",
    ")\n",
    "\n",
    "# Load testing data\n",
    "test_generator = test_datagen.flow_from_directory(\n",
    "    test_dir,\n",
    "    target_size=(100, 100),\n",
    "    batch_size=32,\n",
    "    class_mode='binary'\n",
    ")\n",
    "\n",
    "# Build CNN model\n",
    "model = Sequential([\n",
    "    Conv2D(32, (3, 3), activation='relu', input_shape=(100, 100, 3)),\n",
    "    MaxPooling2D((2, 2)),\n",
    "    Conv2D(64, (3, 3), activation='relu'),\n",
    "    MaxPooling2D((2, 2)),\n",
    "    Conv2D(128, (3, 3), activation='relu'),\n",
    "    MaxPooling2D((2, 2)),\n",
    "    Flatten(),\n",
    "    Dense(128, activation='relu'),\n",
    "    Dropout(0.5),  # Add dropout for regularization\n",
    "    Dense(1, activation='sigmoid')  # 1 output neuron for binary classification\n",
    "])\n",
    "\n",
    "# Compile model\n",
    "optimizer = Adam(lr=0.001)  # Adjust learning rate if needed\n",
    "model.compile(optimizer=optimizer,\n",
    "              loss='binary_crossentropy',\n",
    "              metrics=['accuracy'])\n",
    "\n",
    "# Train model\n",
    "model.fit(train_generator,\n",
    "          steps_per_epoch=train_generator.samples // train_generator.batch_size,\n",
    "          epochs=10,\n",
    "          validation_data=test_generator,\n",
    "          validation_steps=test_generator.samples // test_generator.batch_size)\n",
    "\n",
    "# Evaluate model\n",
    "loss, accuracy = model.evaluate(test_generator)\n",
    "print(\"Test Accuracy:\", accuracy)\n"
   ]
  },
  {
   "cell_type": "code",
   "execution_count": 4,
   "metadata": {},
   "outputs": [],
   "source": [
    "model.save(\"apple_freshness.h5\")"
   ]
  },
  {
   "cell_type": "code",
   "execution_count": 1,
   "metadata": {},
   "outputs": [
    {
     "ename": "NameError",
     "evalue": "name 'model' is not defined",
     "output_type": "error",
     "traceback": [
      "\u001b[1;31m---------------------------------------------------------------------------\u001b[0m",
      "\u001b[1;31mNameError\u001b[0m                                 Traceback (most recent call last)",
      "Cell \u001b[1;32mIn[1], line 4\u001b[0m\n\u001b[0;32m      1\u001b[0m \u001b[38;5;28;01mimport\u001b[39;00m \u001b[38;5;21;01mmatplotlib\u001b[39;00m\u001b[38;5;21;01m.\u001b[39;00m\u001b[38;5;21;01mpyplot\u001b[39;00m \u001b[38;5;28;01mas\u001b[39;00m \u001b[38;5;21;01mplt\u001b[39;00m\n\u001b[0;32m      3\u001b[0m \u001b[38;5;66;03m# Get training and validation accuracy\u001b[39;00m\n\u001b[1;32m----> 4\u001b[0m train_accuracy \u001b[38;5;241m=\u001b[39m \u001b[43mmodel\u001b[49m\u001b[38;5;241m.\u001b[39mhistory\u001b[38;5;241m.\u001b[39mhistory[\u001b[38;5;124m'\u001b[39m\u001b[38;5;124maccuracy\u001b[39m\u001b[38;5;124m'\u001b[39m]\n\u001b[0;32m      5\u001b[0m val_accuracy \u001b[38;5;241m=\u001b[39m model\u001b[38;5;241m.\u001b[39mhistory\u001b[38;5;241m.\u001b[39mhistory[\u001b[38;5;124m'\u001b[39m\u001b[38;5;124mval_accuracy\u001b[39m\u001b[38;5;124m'\u001b[39m]\n\u001b[0;32m      7\u001b[0m \u001b[38;5;66;03m# Get training and validation loss\u001b[39;00m\n",
      "\u001b[1;31mNameError\u001b[0m: name 'model' is not defined"
     ]
    }
   ],
   "source": []
  },
  {
   "cell_type": "code",
   "execution_count": 5,
   "metadata": {},
   "outputs": [
    {
     "name": "stderr",
     "output_type": "stream",
     "text": [
      "WARNING:absl:Found untraced functions such as _jit_compiled_convolution_op, _jit_compiled_convolution_op, _jit_compiled_convolution_op while saving (showing 3 of 3). These functions will not be directly callable after loading.\n"
     ]
    },
    {
     "name": "stdout",
     "output_type": "stream",
     "text": [
      "INFO:tensorflow:Assets written to: C:\\Users\\avi11\\AppData\\Local\\Temp\\tmpv7qu2blh\\assets\n"
     ]
    },
    {
     "name": "stderr",
     "output_type": "stream",
     "text": [
      "INFO:tensorflow:Assets written to: C:\\Users\\avi11\\AppData\\Local\\Temp\\tmpv7qu2blh\\assets\n"
     ]
    }
   ],
   "source": [
    "import tensorflow as tf\n",
    "from keras.models import load_model\n",
    "\n",
    "# Step 1: Load the Keras Model\n",
    "model = load_model('apple_freshness.h5')\n",
    "\n",
    "# Step 2: Convert to TensorFlow Lite Model\n",
    "converter = tf.lite.TFLiteConverter.from_keras_model(model)\n",
    "tflite_model = converter.convert()\n",
    "\n",
    "# Step 3: Save TensorFlow Lite Model\n",
    "with open('apple_freshness.tflite', 'wb') as f:\n",
    "    f.write(tflite_model)"
   ]
  },
  {
   "cell_type": "code",
   "execution_count": 6,
   "metadata": {},
   "outputs": [],
   "source": [
    "import tkinter as tk\n",
    "from tkinter import filedialog\n",
    "from PIL import Image, ImageTk\n",
    "import numpy as np\n",
    "from keras.models import load_model\n",
    "\n",
    "# Function to preprocess the image\n",
    "def preprocess_image(image_path):\n",
    "    img = Image.open(image_path)\n",
    "    img = img.resize((100, 100))\n",
    "    img_array = np.array(img) / 255.0\n",
    "    img_array = np.expand_dims(img_array, axis=0)\n",
    "    return img, img_array\n",
    "\n",
    "# Function to make prediction and display image\n",
    "def predict_image():\n",
    "    # Get the selected image path\n",
    "    image_path = filedialog.askopenfilename()\n",
    "    \n",
    "    # Preprocess the selected image\n",
    "    img, img_array = preprocess_image(image_path)\n",
    "    \n",
    "    # Display the image\n",
    "    img = ImageTk.PhotoImage(img)\n",
    "    image_label.config(image=img)\n",
    "    image_label.image = img\n",
    "    \n",
    "    # Make prediction\n",
    "    prediction = model.predict(img_array)\n",
    "    result_label.config(text=\"Prediction: \" + (\"Rotten\" if prediction[0][0] > 0.5 else \"Fresh\"))\n",
    "\n",
    "# Load your trained model\n",
    "model = load_model('apple_freshness.h5')\n",
    "\n",
    "# Create the main application window\n",
    "root = tk.Tk()\n",
    "root.title(\"Fruit Freshness Classifier\")\n",
    "\n",
    "# Create a frame for the image\n",
    "image_frame = tk.Frame(root)\n",
    "image_frame.pack(pady=10)\n",
    "\n",
    "# Create a label to display the image\n",
    "image_label = tk.Label(image_frame)\n",
    "image_label.pack()\n",
    "\n",
    "# Create a button to select an image\n",
    "browse_button = tk.Button(root, text=\"Select Image\", command=predict_image)\n",
    "browse_button.pack(pady=5)\n",
    "\n",
    "# Create a label to display the prediction result\n",
    "result_label = tk.Label(root, text=\"\")\n",
    "result_label.pack(pady=5)\n",
    "\n",
    "# Run the Tkinter event loop\n",
    "root.mainloop()\n",
    "\n",
    "\n"
   ]
  },
  {
   "cell_type": "code",
   "execution_count": 7,
   "metadata": {},
   "outputs": [
    {
     "name": "stdout",
     "output_type": "stream",
     "text": [
      "Found 1524 images belonging to 2 classes.\n",
      "Found 686 images belonging to 2 classes.\n"
     ]
    },
    {
     "name": "stderr",
     "output_type": "stream",
     "text": [
      "d:\\python\\Lib\\site-packages\\keras\\optimizers\\legacy\\adam.py:117: UserWarning: The `lr` argument is deprecated, use `learning_rate` instead.\n",
      "  super().__init__(name, **kwargs)\n"
     ]
    },
    {
     "name": "stdout",
     "output_type": "stream",
     "text": [
      "Epoch 1/10\n",
      "47/47 [==============================] - 31s 652ms/step - loss: 0.3908 - accuracy: 0.8164 - val_loss: 0.5522 - val_accuracy: 0.7068\n",
      "Epoch 2/10\n",
      "47/47 [==============================] - 18s 390ms/step - loss: 0.1708 - accuracy: 0.9464 - val_loss: 0.6636 - val_accuracy: 0.7961\n",
      "Epoch 3/10\n",
      "47/47 [==============================] - 19s 395ms/step - loss: 0.1614 - accuracy: 0.9350 - val_loss: 0.3837 - val_accuracy: 0.8631\n",
      "Epoch 4/10\n",
      "47/47 [==============================] - 19s 394ms/step - loss: 0.1006 - accuracy: 0.9672 - val_loss: 0.6697 - val_accuracy: 0.7991\n",
      "Epoch 5/10\n",
      "47/47 [==============================] - 19s 398ms/step - loss: 0.0979 - accuracy: 0.9672 - val_loss: 0.6644 - val_accuracy: 0.7634\n",
      "Epoch 6/10\n",
      "47/47 [==============================] - 19s 395ms/step - loss: 0.1489 - accuracy: 0.9484 - val_loss: 1.0990 - val_accuracy: 0.7798\n",
      "Epoch 7/10\n",
      "47/47 [==============================] - 19s 407ms/step - loss: 0.1046 - accuracy: 0.9638 - val_loss: 0.7257 - val_accuracy: 0.7247\n",
      "Epoch 8/10\n",
      "47/47 [==============================] - 19s 404ms/step - loss: 0.0712 - accuracy: 0.9745 - val_loss: 1.6326 - val_accuracy: 0.7664\n",
      "Epoch 9/10\n",
      "47/47 [==============================] - 19s 408ms/step - loss: 0.0709 - accuracy: 0.9799 - val_loss: 2.0855 - val_accuracy: 0.7307\n",
      "Epoch 10/10\n",
      "47/47 [==============================] - 18s 388ms/step - loss: 0.0524 - accuracy: 0.9806 - val_loss: 1.4200 - val_accuracy: 0.8051\n",
      "22/22 [==============================] - 3s 121ms/step - loss: 1.4321 - accuracy: 0.8061\n",
      "Test Accuracy: 0.8061224222183228\n"
     ]
    }
   ],
   "source": [
    "#Banana\n",
    "\n",
    "from keras.preprocessing.image import ImageDataGenerator\n",
    "from keras.models import Sequential\n",
    "from keras.layers import Conv2D, MaxPooling2D, Flatten, Dense, Dropout\n",
    "from keras.optimizers import Adam\n",
    "from sklearn.model_selection import train_test_split\n",
    "\n",
    "# Split dataset into training and testing sets\n",
    "train_dir = \"C:/Users/avi11/Downloads/Dataset/Banana/train\"\n",
    "test_dir = \"C:/Users/avi11/Downloads/Dataset/Banana/test\"\n",
    "\n",
    "# Define data generators\n",
    "train_datagen = ImageDataGenerator(\n",
    "    rescale=1./255,\n",
    "    rotation_range=20,\n",
    "    width_shift_range=0.1,\n",
    "    height_shift_range=0.1,\n",
    "    shear_range=0.2,\n",
    "    zoom_range=0.2,\n",
    "    horizontal_flip=True\n",
    ")\n",
    "\n",
    "test_datagen = ImageDataGenerator(rescale=1./255)\n",
    "\n",
    "# Load and augment training data\n",
    "train_generator = train_datagen.flow_from_directory(\n",
    "    train_dir,\n",
    "    target_size=(100, 100),\n",
    "    batch_size=32,\n",
    "    class_mode='binary'\n",
    ")\n",
    "\n",
    "# Load testing data\n",
    "test_generator = test_datagen.flow_from_directory(\n",
    "    test_dir,\n",
    "    target_size=(100, 100),\n",
    "    batch_size=32,\n",
    "    class_mode='binary'\n",
    ")\n",
    "\n",
    "# Build CNN model\n",
    "model = Sequential([\n",
    "    Conv2D(32, (3, 3), activation='relu', input_shape=(100, 100, 3)),\n",
    "    MaxPooling2D((2, 2)),\n",
    "    Conv2D(64, (3, 3), activation='relu'),\n",
    "    MaxPooling2D((2, 2)),\n",
    "    Conv2D(128, (3, 3), activation='relu'),\n",
    "    MaxPooling2D((2, 2)),\n",
    "    Flatten(),\n",
    "    Dense(128, activation='relu'),\n",
    "    Dropout(0.5),  # Add dropout for regularization\n",
    "    Dense(1, activation='sigmoid')  # 1 output neuron for binary classification\n",
    "])\n",
    "\n",
    "# Compile model\n",
    "optimizer = Adam(lr=0.001)  # Adjust learning rate if needed\n",
    "model.compile(optimizer=optimizer,\n",
    "              loss='binary_crossentropy',\n",
    "              metrics=['accuracy'])\n",
    "\n",
    "# Train model\n",
    "model.fit(train_generator,\n",
    "          steps_per_epoch=train_generator.samples // train_generator.batch_size,\n",
    "          epochs=10,\n",
    "          validation_data=test_generator,\n",
    "          validation_steps=test_generator.samples // test_generator.batch_size)\n",
    "\n",
    "# Evaluate model\n",
    "loss, accuracy = model.evaluate(test_generator)\n",
    "print(\"Test Accuracy:\", accuracy)"
   ]
  },
  {
   "cell_type": "code",
   "execution_count": 8,
   "metadata": {},
   "outputs": [],
   "source": [
    "model.save(\"banana_freshness.h5\")"
   ]
  },
  {
   "cell_type": "code",
   "execution_count": 9,
   "metadata": {},
   "outputs": [
    {
     "name": "stderr",
     "output_type": "stream",
     "text": [
      "WARNING:absl:Found untraced functions such as _jit_compiled_convolution_op, _jit_compiled_convolution_op, _jit_compiled_convolution_op while saving (showing 3 of 3). These functions will not be directly callable after loading.\n"
     ]
    },
    {
     "name": "stdout",
     "output_type": "stream",
     "text": [
      "INFO:tensorflow:Assets written to: C:\\Users\\avi11\\AppData\\Local\\Temp\\tmpij73kyc_\\assets\n"
     ]
    },
    {
     "name": "stderr",
     "output_type": "stream",
     "text": [
      "INFO:tensorflow:Assets written to: C:\\Users\\avi11\\AppData\\Local\\Temp\\tmpij73kyc_\\assets\n"
     ]
    }
   ],
   "source": [
    "import tensorflow as tf\n",
    "from keras.models import load_model\n",
    "\n",
    "# Step 1: Load the Keras Model\n",
    "model = load_model('banana_freshness.h5')\n",
    "\n",
    "# Step 2: Convert to TensorFlow Lite Model\n",
    "converter = tf.lite.TFLiteConverter.from_keras_model(model)\n",
    "tflite_model = converter.convert()\n",
    "\n",
    "# Step 3: Save TensorFlow Lite Model\n",
    "with open('banana_freshness.tflite', 'wb') as f:\n",
    "    f.write(tflite_model)"
   ]
  },
  {
   "cell_type": "code",
   "execution_count": 10,
   "metadata": {},
   "outputs": [
    {
     "name": "stdout",
     "output_type": "stream",
     "text": [
      "Found 1599 images belonging to 2 classes.\n",
      "Found 690 images belonging to 2 classes.\n"
     ]
    },
    {
     "name": "stderr",
     "output_type": "stream",
     "text": [
      "d:\\python\\Lib\\site-packages\\keras\\optimizers\\legacy\\adam.py:117: UserWarning: The `lr` argument is deprecated, use `learning_rate` instead.\n",
      "  super().__init__(name, **kwargs)\n"
     ]
    },
    {
     "name": "stdout",
     "output_type": "stream",
     "text": [
      "Epoch 1/10\n",
      "49/49 [==============================] - 29s 589ms/step - loss: 0.1498 - accuracy: 0.9592 - val_loss: 2.7515e-04 - val_accuracy: 1.0000\n",
      "Epoch 2/10\n",
      "49/49 [==============================] - 15s 312ms/step - loss: 0.0053 - accuracy: 0.9981 - val_loss: 6.8671e-06 - val_accuracy: 1.0000\n",
      "Epoch 3/10\n",
      "49/49 [==============================] - 16s 322ms/step - loss: 0.0040 - accuracy: 0.9981 - val_loss: 4.0781e-04 - val_accuracy: 1.0000\n",
      "Epoch 4/10\n",
      "49/49 [==============================] - 15s 307ms/step - loss: 0.0066 - accuracy: 0.9987 - val_loss: 4.2193e-08 - val_accuracy: 1.0000\n",
      "Epoch 5/10\n",
      "49/49 [==============================] - 15s 311ms/step - loss: 0.0050 - accuracy: 0.9981 - val_loss: 4.9956e-07 - val_accuracy: 1.0000\n",
      "Epoch 6/10\n",
      "49/49 [==============================] - 15s 308ms/step - loss: 1.4448e-04 - accuracy: 1.0000 - val_loss: 3.6940e-10 - val_accuracy: 1.0000\n",
      "Epoch 7/10\n",
      "49/49 [==============================] - 15s 310ms/step - loss: 1.5024e-04 - accuracy: 1.0000 - val_loss: 2.2549e-10 - val_accuracy: 1.0000\n",
      "Epoch 8/10\n",
      "49/49 [==============================] - 15s 312ms/step - loss: 5.8017e-05 - accuracy: 1.0000 - val_loss: 6.3331e-13 - val_accuracy: 1.0000\n",
      "Epoch 9/10\n",
      "49/49 [==============================] - 15s 306ms/step - loss: 0.0287 - accuracy: 0.9923 - val_loss: 2.0879e-04 - val_accuracy: 1.0000\n",
      "Epoch 10/10\n",
      "49/49 [==============================] - 15s 308ms/step - loss: 0.0080 - accuracy: 0.9968 - val_loss: 1.1697e-04 - val_accuracy: 1.0000\n",
      "22/22 [==============================] - 2s 76ms/step - loss: 1.2108e-04 - accuracy: 1.0000\n",
      "Test Accuracy: 1.0\n"
     ]
    }
   ],
   "source": [
    "#Grapes\n",
    "from keras.preprocessing.image import ImageDataGenerator\n",
    "from keras.models import Sequential\n",
    "from keras.layers import Conv2D, MaxPooling2D, Flatten, Dense, Dropout\n",
    "from keras.optimizers import Adam\n",
    "from sklearn.model_selection import train_test_split\n",
    "\n",
    "# Split dataset into training and testing sets\n",
    "train_dir = \"C:/Users/avi11/Downloads/Dataset/Grapes/train\"\n",
    "test_dir = \"C:/Users/avi11/Downloads/Dataset/Grapes/test\"\n",
    "\n",
    "# Define data generators\n",
    "train_datagen = ImageDataGenerator(\n",
    "    rescale=1./255,\n",
    "    rotation_range=20,\n",
    "    width_shift_range=0.1,\n",
    "    height_shift_range=0.1,\n",
    "    shear_range=0.2,\n",
    "    zoom_range=0.2,\n",
    "    horizontal_flip=True\n",
    ")\n",
    "\n",
    "test_datagen = ImageDataGenerator(rescale=1./255)\n",
    "\n",
    "# Load and augment training data\n",
    "train_generator = train_datagen.flow_from_directory(\n",
    "    train_dir,\n",
    "    target_size=(100, 100),\n",
    "    batch_size=32,\n",
    "    class_mode='binary'\n",
    ")\n",
    "\n",
    "# Load testing data\n",
    "test_generator = test_datagen.flow_from_directory(\n",
    "    test_dir,\n",
    "    target_size=(100, 100),\n",
    "    batch_size=32,\n",
    "    class_mode='binary'\n",
    ")\n",
    "\n",
    "# Build CNN model\n",
    "model = Sequential([\n",
    "    Conv2D(32, (3, 3), activation='relu', input_shape=(100, 100, 3)),\n",
    "    MaxPooling2D((2, 2)),\n",
    "    Conv2D(64, (3, 3), activation='relu'),\n",
    "    MaxPooling2D((2, 2)),\n",
    "    Conv2D(128, (3, 3), activation='relu'),\n",
    "    MaxPooling2D((2, 2)),\n",
    "    Flatten(),\n",
    "    Dense(128, activation='relu'),\n",
    "    Dropout(0.5),  # Add dropout for regularization\n",
    "    Dense(1, activation='sigmoid')  # 1 output neuron for binary classification\n",
    "])\n",
    "\n",
    "# Compile model\n",
    "optimizer = Adam(lr=0.001)  # Adjust learning rate if needed\n",
    "model.compile(optimizer=optimizer,\n",
    "              loss='binary_crossentropy',\n",
    "              metrics=['accuracy'])\n",
    "\n",
    "# Train model\n",
    "model.fit(train_generator,\n",
    "          steps_per_epoch=train_generator.samples // train_generator.batch_size,\n",
    "          epochs=10,\n",
    "          validation_data=test_generator,\n",
    "          validation_steps=test_generator.samples // test_generator.batch_size)\n",
    "\n",
    "# Evaluate model\n",
    "loss, accuracy = model.evaluate(test_generator)\n",
    "print(\"Test Accuracy:\", accuracy)"
   ]
  },
  {
   "cell_type": "code",
   "execution_count": 11,
   "metadata": {},
   "outputs": [],
   "source": [
    "model.save(\"grapes_freshness.h5\")"
   ]
  },
  {
   "cell_type": "code",
   "execution_count": 12,
   "metadata": {},
   "outputs": [
    {
     "name": "stderr",
     "output_type": "stream",
     "text": [
      "WARNING:absl:Found untraced functions such as _jit_compiled_convolution_op, _jit_compiled_convolution_op, _jit_compiled_convolution_op while saving (showing 3 of 3). These functions will not be directly callable after loading.\n"
     ]
    },
    {
     "name": "stdout",
     "output_type": "stream",
     "text": [
      "INFO:tensorflow:Assets written to: C:\\Users\\avi11\\AppData\\Local\\Temp\\tmp8rmrwsh7\\assets\n"
     ]
    },
    {
     "name": "stderr",
     "output_type": "stream",
     "text": [
      "INFO:tensorflow:Assets written to: C:\\Users\\avi11\\AppData\\Local\\Temp\\tmp8rmrwsh7\\assets\n"
     ]
    }
   ],
   "source": [
    "import tensorflow as tf\n",
    "from keras.models import load_model\n",
    "\n",
    "# Step 1: Load the Keras Model\n",
    "model = load_model('grapes_freshness.h5')\n",
    "\n",
    "# Step 2: Convert to TensorFlow Lite Model\n",
    "converter = tf.lite.TFLiteConverter.from_keras_model(model)\n",
    "tflite_model = converter.convert()\n",
    "\n",
    "# Step 3: Save TensorFlow Lite Model\n",
    "with open('grapes_freshness.tflite', 'wb') as f:\n",
    "    f.write(tflite_model)"
   ]
  },
  {
   "cell_type": "code",
   "execution_count": 13,
   "metadata": {},
   "outputs": [
    {
     "name": "stdout",
     "output_type": "stream",
     "text": [
      "Found 1599 images belonging to 2 classes.\n",
      "Found 690 images belonging to 2 classes.\n",
      "Epoch 1/10\n"
     ]
    },
    {
     "name": "stderr",
     "output_type": "stream",
     "text": [
      "d:\\python\\Lib\\site-packages\\keras\\optimizers\\legacy\\adam.py:117: UserWarning: The `lr` argument is deprecated, use `learning_rate` instead.\n",
      "  super().__init__(name, **kwargs)\n"
     ]
    },
    {
     "name": "stdout",
     "output_type": "stream",
     "text": [
      "49/49 [==============================] - 17s 328ms/step - loss: 0.1381 - accuracy: 0.9375 - val_loss: 0.0035 - val_accuracy: 1.0000\n",
      "Epoch 2/10\n",
      "49/49 [==============================] - 16s 319ms/step - loss: 0.0194 - accuracy: 0.9879 - val_loss: 2.5887e-04 - val_accuracy: 1.0000\n",
      "Epoch 3/10\n",
      "49/49 [==============================] - 15s 314ms/step - loss: 0.0112 - accuracy: 0.9962 - val_loss: 2.4634e-05 - val_accuracy: 1.0000\n",
      "Epoch 4/10\n",
      "49/49 [==============================] - 16s 317ms/step - loss: 0.0110 - accuracy: 0.9962 - val_loss: 1.0168e-05 - val_accuracy: 1.0000\n",
      "Epoch 5/10\n",
      "49/49 [==============================] - 16s 316ms/step - loss: 0.0097 - accuracy: 0.9981 - val_loss: 1.0904e-04 - val_accuracy: 1.0000\n",
      "Epoch 6/10\n",
      "49/49 [==============================] - 15s 314ms/step - loss: 0.0174 - accuracy: 0.9930 - val_loss: 0.0012 - val_accuracy: 1.0000\n",
      "Epoch 7/10\n",
      "49/49 [==============================] - 16s 315ms/step - loss: 0.0132 - accuracy: 0.9987 - val_loss: 4.7233e-07 - val_accuracy: 1.0000\n",
      "Epoch 8/10\n",
      "49/49 [==============================] - 16s 317ms/step - loss: 0.0100 - accuracy: 0.9974 - val_loss: 5.9095e-05 - val_accuracy: 1.0000\n",
      "Epoch 9/10\n",
      "49/49 [==============================] - 16s 316ms/step - loss: 0.0133 - accuracy: 0.9949 - val_loss: 0.0014 - val_accuracy: 1.0000\n",
      "Epoch 10/10\n",
      "49/49 [==============================] - 15s 312ms/step - loss: 0.0079 - accuracy: 0.9962 - val_loss: 1.1474e-04 - val_accuracy: 1.0000\n",
      "22/22 [==============================] - 2s 73ms/step - loss: 1.1195e-04 - accuracy: 1.0000\n",
      "Test Accuracy: 1.0\n"
     ]
    }
   ],
   "source": [
    "#Mango\n",
    "from keras.preprocessing.image import ImageDataGenerator\n",
    "from keras.models import Sequential\n",
    "from keras.layers import Conv2D, MaxPooling2D, Flatten, Dense, Dropout\n",
    "from keras.optimizers import Adam\n",
    "from sklearn.model_selection import train_test_split\n",
    "\n",
    "# Split dataset into training and testing sets\n",
    "train_dir = \"C:/Users/avi11/Downloads/Dataset/Grapes/train\"\n",
    "test_dir = \"C:/Users/avi11/Downloads/Dataset/Grapes/test\"\n",
    "\n",
    "# Define data generators\n",
    "train_datagen = ImageDataGenerator(\n",
    "    rescale=1./255,\n",
    "    rotation_range=20,\n",
    "    width_shift_range=0.1,\n",
    "    height_shift_range=0.1,\n",
    "    shear_range=0.2,\n",
    "    zoom_range=0.2,\n",
    "    horizontal_flip=True\n",
    ")\n",
    "\n",
    "test_datagen = ImageDataGenerator(rescale=1./255)\n",
    "\n",
    "# Load and augment training data\n",
    "train_generator = train_datagen.flow_from_directory(\n",
    "    train_dir,\n",
    "    target_size=(100, 100),\n",
    "    batch_size=32,\n",
    "    class_mode='binary'\n",
    ")\n",
    "\n",
    "# Load testing data\n",
    "test_generator = test_datagen.flow_from_directory(\n",
    "    test_dir,\n",
    "    target_size=(100, 100),\n",
    "    batch_size=32,\n",
    "    class_mode='binary'\n",
    ")\n",
    "\n",
    "# Build CNN model\n",
    "model = Sequential([\n",
    "    Conv2D(32, (3, 3), activation='relu', input_shape=(100, 100, 3)),\n",
    "    MaxPooling2D((2, 2)),\n",
    "    Conv2D(64, (3, 3), activation='relu'),\n",
    "    MaxPooling2D((2, 2)),\n",
    "    Conv2D(128, (3, 3), activation='relu'),\n",
    "    MaxPooling2D((2, 2)),\n",
    "    Flatten(),\n",
    "    Dense(128, activation='relu'),\n",
    "    Dropout(0.5),  # Add dropout for regularization\n",
    "    Dense(1, activation='sigmoid')  # 1 output neuron for binary classification\n",
    "])\n",
    "\n",
    "# Compile model\n",
    "optimizer = Adam(lr=0.001)  # Adjust learning rate if needed\n",
    "model.compile(optimizer=optimizer,\n",
    "              loss='binary_crossentropy',\n",
    "              metrics=['accuracy'])\n",
    "\n",
    "# Train model\n",
    "model.fit(train_generator,\n",
    "          steps_per_epoch=train_generator.samples // train_generator.batch_size,\n",
    "          epochs=10,\n",
    "          validation_data=test_generator,\n",
    "          validation_steps=test_generator.samples // test_generator.batch_size)\n",
    "\n",
    "# Evaluate model\n",
    "loss, accuracy = model.evaluate(test_generator)\n",
    "print(\"Test Accuracy:\", accuracy)"
   ]
  },
  {
   "cell_type": "code",
   "execution_count": 14,
   "metadata": {},
   "outputs": [],
   "source": [
    "model.save(\"mango_freshness.h5\")"
   ]
  },
  {
   "cell_type": "code",
   "execution_count": 15,
   "metadata": {},
   "outputs": [
    {
     "name": "stderr",
     "output_type": "stream",
     "text": [
      "WARNING:absl:Found untraced functions such as _jit_compiled_convolution_op, _jit_compiled_convolution_op, _jit_compiled_convolution_op while saving (showing 3 of 3). These functions will not be directly callable after loading.\n"
     ]
    },
    {
     "name": "stdout",
     "output_type": "stream",
     "text": [
      "INFO:tensorflow:Assets written to: C:\\Users\\avi11\\AppData\\Local\\Temp\\tmplj983yhg\\assets\n"
     ]
    },
    {
     "name": "stderr",
     "output_type": "stream",
     "text": [
      "INFO:tensorflow:Assets written to: C:\\Users\\avi11\\AppData\\Local\\Temp\\tmplj983yhg\\assets\n"
     ]
    }
   ],
   "source": [
    "import tensorflow as tf\n",
    "from keras.models import load_model\n",
    "\n",
    "# Step 1: Load the Keras Model\n",
    "model = load_model('mango_freshness.h5')\n",
    "\n",
    "# Step 2: Convert to TensorFlow Lite Model\n",
    "converter = tf.lite.TFLiteConverter.from_keras_model(model)\n",
    "tflite_model = converter.convert()\n",
    "\n",
    "# Step 3: Save TensorFlow Lite Model\n",
    "with open('mango_freshness.tflite', 'wb') as f:\n",
    "    f.write(tflite_model)"
   ]
  },
  {
   "cell_type": "code",
   "execution_count": 16,
   "metadata": {},
   "outputs": [
    {
     "name": "stdout",
     "output_type": "stream",
     "text": [
      "Found 806 images belonging to 2 classes.\n",
      "Found 504 images belonging to 2 classes.\n"
     ]
    },
    {
     "name": "stderr",
     "output_type": "stream",
     "text": [
      "d:\\python\\Lib\\site-packages\\keras\\optimizers\\legacy\\adam.py:117: UserWarning: The `lr` argument is deprecated, use `learning_rate` instead.\n",
      "  super().__init__(name, **kwargs)\n"
     ]
    },
    {
     "name": "stdout",
     "output_type": "stream",
     "text": [
      "Epoch 1/10\n",
      "25/25 [==============================] - 19s 741ms/step - loss: 0.5732 - accuracy: 0.6912 - val_loss: 0.7349 - val_accuracy: 0.6479\n",
      "Epoch 2/10\n",
      "25/25 [==============================] - 12s 492ms/step - loss: 0.4292 - accuracy: 0.8165 - val_loss: 0.3692 - val_accuracy: 0.8396\n",
      "Epoch 3/10\n",
      "25/25 [==============================] - 9s 370ms/step - loss: 0.3602 - accuracy: 0.8450 - val_loss: 0.2491 - val_accuracy: 0.9104\n",
      "Epoch 4/10\n",
      "25/25 [==============================] - 9s 342ms/step - loss: 0.3078 - accuracy: 0.8630 - val_loss: 0.2110 - val_accuracy: 0.9396\n",
      "Epoch 5/10\n",
      "25/25 [==============================] - 8s 327ms/step - loss: 0.2939 - accuracy: 0.8656 - val_loss: 0.2176 - val_accuracy: 0.9146\n",
      "Epoch 6/10\n",
      "25/25 [==============================] - 8s 323ms/step - loss: 0.2958 - accuracy: 0.8760 - val_loss: 0.3118 - val_accuracy: 0.8729\n",
      "Epoch 7/10\n",
      "25/25 [==============================] - 8s 325ms/step - loss: 0.2648 - accuracy: 0.8863 - val_loss: 0.1940 - val_accuracy: 0.9208\n",
      "Epoch 8/10\n",
      "25/25 [==============================] - 8s 321ms/step - loss: 0.2594 - accuracy: 0.8811 - val_loss: 0.3695 - val_accuracy: 0.8521\n",
      "Epoch 9/10\n",
      "25/25 [==============================] - 8s 331ms/step - loss: 0.2744 - accuracy: 0.8863 - val_loss: 0.2572 - val_accuracy: 0.9208\n",
      "Epoch 10/10\n",
      "25/25 [==============================] - 8s 323ms/step - loss: 0.2345 - accuracy: 0.8941 - val_loss: 0.2201 - val_accuracy: 0.9521\n",
      "16/16 [==============================] - 2s 94ms/step - loss: 0.2187 - accuracy: 0.9504\n",
      "Test Accuracy: 0.9503968358039856\n"
     ]
    }
   ],
   "source": [
    "#Orange\n",
    "from keras.preprocessing.image import ImageDataGenerator\n",
    "from keras.models import Sequential\n",
    "from keras.layers import Conv2D, MaxPooling2D, Flatten, Dense, Dropout\n",
    "from keras.optimizers import Adam\n",
    "from sklearn.model_selection import train_test_split\n",
    "\n",
    "# Split dataset into training and testing sets\n",
    "train_dir = \"C:/Users/avi11/Downloads/Dataset/Orange/train\"\n",
    "test_dir = \"C:/Users/avi11/Downloads/Dataset/Orange/test\"\n",
    "\n",
    "# Define data generators\n",
    "train_datagen = ImageDataGenerator(\n",
    "    rescale=1./255,\n",
    "    rotation_range=20,\n",
    "    width_shift_range=0.1,\n",
    "    height_shift_range=0.1,\n",
    "    shear_range=0.2,\n",
    "    zoom_range=0.2,\n",
    "    horizontal_flip=True\n",
    ")\n",
    "\n",
    "test_datagen = ImageDataGenerator(rescale=1./255)\n",
    "\n",
    "# Load and augment training data\n",
    "train_generator = train_datagen.flow_from_directory(\n",
    "    train_dir,\n",
    "    target_size=(100, 100),\n",
    "    batch_size=32,\n",
    "    class_mode='binary'\n",
    ")\n",
    "\n",
    "# Load testing data\n",
    "test_generator = test_datagen.flow_from_directory(\n",
    "    test_dir,\n",
    "    target_size=(100, 100),\n",
    "    batch_size=32,\n",
    "    class_mode='binary'\n",
    ")\n",
    "\n",
    "# Build CNN model\n",
    "model = Sequential([\n",
    "    Conv2D(32, (3, 3), activation='relu', input_shape=(100, 100, 3)),\n",
    "    MaxPooling2D((2, 2)),\n",
    "    Conv2D(64, (3, 3), activation='relu'),\n",
    "    MaxPooling2D((2, 2)),\n",
    "    Conv2D(128, (3, 3), activation='relu'),\n",
    "    MaxPooling2D((2, 2)),\n",
    "    Flatten(),\n",
    "    Dense(128, activation='relu'),\n",
    "    Dropout(0.5),  # Add dropout for regularization\n",
    "    Dense(1, activation='sigmoid')  # 1 output neuron for binary classification\n",
    "])\n",
    "\n",
    "# Compile model\n",
    "optimizer = Adam(lr=0.001)  # Adjust learning rate if needed\n",
    "model.compile(optimizer=optimizer,\n",
    "              loss='binary_crossentropy',\n",
    "              metrics=['accuracy'])\n",
    "\n",
    "# Train model\n",
    "model.fit(train_generator,\n",
    "          steps_per_epoch=train_generator.samples // train_generator.batch_size,\n",
    "          epochs=10,\n",
    "          validation_data=test_generator,\n",
    "          validation_steps=test_generator.samples // test_generator.batch_size)\n",
    "\n",
    "# Evaluate model\n",
    "loss, accuracy = model.evaluate(test_generator)\n",
    "print(\"Test Accuracy:\", accuracy)"
   ]
  },
  {
   "cell_type": "code",
   "execution_count": 17,
   "metadata": {},
   "outputs": [],
   "source": [
    "model.save(\"orange_freshness.h5\")"
   ]
  },
  {
   "cell_type": "code",
   "execution_count": 18,
   "metadata": {},
   "outputs": [
    {
     "name": "stderr",
     "output_type": "stream",
     "text": [
      "WARNING:absl:Found untraced functions such as _jit_compiled_convolution_op, _jit_compiled_convolution_op, _jit_compiled_convolution_op while saving (showing 3 of 3). These functions will not be directly callable after loading.\n"
     ]
    },
    {
     "name": "stdout",
     "output_type": "stream",
     "text": [
      "INFO:tensorflow:Assets written to: C:\\Users\\avi11\\AppData\\Local\\Temp\\tmp5p58wo_z\\assets\n"
     ]
    },
    {
     "name": "stderr",
     "output_type": "stream",
     "text": [
      "INFO:tensorflow:Assets written to: C:\\Users\\avi11\\AppData\\Local\\Temp\\tmp5p58wo_z\\assets\n"
     ]
    }
   ],
   "source": [
    "import tensorflow as tf\n",
    "from keras.models import load_model\n",
    "\n",
    "# Step 1: Load the Keras Model\n",
    "model = load_model('orange_freshness.h5')\n",
    "\n",
    "# Step 2: Convert to TensorFlow Lite Model\n",
    "converter = tf.lite.TFLiteConverter.from_keras_model(model)\n",
    "tflite_model = converter.convert()\n",
    "\n",
    "# Step 3: Save TensorFlow Lite Model\n",
    "with open('orange_freshness.tflite', 'wb') as f:\n",
    "    f.write(tflite_model)"
   ]
  },
  {
   "cell_type": "code",
   "execution_count": 19,
   "metadata": {},
   "outputs": [
    {
     "name": "stdout",
     "output_type": "stream",
     "text": [
      "Found 1388 images belonging to 2 classes.\n",
      "Found 596 images belonging to 2 classes.\n"
     ]
    },
    {
     "name": "stderr",
     "output_type": "stream",
     "text": [
      "d:\\python\\Lib\\site-packages\\keras\\optimizers\\legacy\\adam.py:117: UserWarning: The `lr` argument is deprecated, use `learning_rate` instead.\n",
      "  super().__init__(name, **kwargs)\n"
     ]
    },
    {
     "name": "stdout",
     "output_type": "stream",
     "text": [
      "Epoch 1/10\n",
      "43/43 [==============================] - 19s 431ms/step - loss: 0.4849 - accuracy: 0.7529 - val_loss: 0.1279 - val_accuracy: 0.9809\n",
      "Epoch 2/10\n",
      "43/43 [==============================] - 9s 216ms/step - loss: 0.1896 - accuracy: 0.9292 - val_loss: 0.0190 - val_accuracy: 1.0000\n",
      "Epoch 3/10\n",
      "43/43 [==============================] - 9s 216ms/step - loss: 0.1121 - accuracy: 0.9528 - val_loss: 0.0088 - val_accuracy: 1.0000\n",
      "Epoch 4/10\n",
      "43/43 [==============================] - 9s 214ms/step - loss: 0.0540 - accuracy: 0.9816 - val_loss: 0.0030 - val_accuracy: 1.0000\n",
      "Epoch 5/10\n",
      "43/43 [==============================] - 9s 218ms/step - loss: 0.0099 - accuracy: 0.9963 - val_loss: 4.2424e-04 - val_accuracy: 1.0000\n",
      "Epoch 6/10\n",
      "43/43 [==============================] - 9s 219ms/step - loss: 0.0195 - accuracy: 0.9934 - val_loss: 0.0010 - val_accuracy: 1.0000\n",
      "Epoch 7/10\n",
      "43/43 [==============================] - 10s 223ms/step - loss: 0.0075 - accuracy: 0.9971 - val_loss: 9.1436e-04 - val_accuracy: 1.0000\n",
      "Epoch 8/10\n",
      "43/43 [==============================] - 9s 219ms/step - loss: 0.0080 - accuracy: 0.9971 - val_loss: 1.0581e-04 - val_accuracy: 1.0000\n",
      "Epoch 9/10\n",
      "43/43 [==============================] - 9s 222ms/step - loss: 0.0231 - accuracy: 0.9889 - val_loss: 0.0077 - val_accuracy: 1.0000\n",
      "Epoch 10/10\n",
      "43/43 [==============================] - 10s 220ms/step - loss: 0.0179 - accuracy: 0.9963 - val_loss: 4.1774e-04 - val_accuracy: 1.0000\n",
      "19/19 [==============================] - 1s 49ms/step - loss: 4.0488e-04 - accuracy: 1.0000\n",
      "Test Accuracy: 1.0\n"
     ]
    }
   ],
   "source": [
    "#Pear\n",
    "from keras.preprocessing.image import ImageDataGenerator\n",
    "from keras.models import Sequential\n",
    "from keras.layers import Conv2D, MaxPooling2D, Flatten, Dense, Dropout\n",
    "from keras.optimizers import Adam\n",
    "from sklearn.model_selection import train_test_split\n",
    "\n",
    "# Split dataset into training and testing sets\n",
    "train_dir = \"C:/Users/avi11/Downloads/Dataset/Pear/train\"\n",
    "test_dir = \"C:/Users/avi11/Downloads/Dataset/Pear/test\"\n",
    "\n",
    "# Define data generators\n",
    "train_datagen = ImageDataGenerator(\n",
    "    rescale=1./255,\n",
    "    rotation_range=20,\n",
    "    width_shift_range=0.1,\n",
    "    height_shift_range=0.1,\n",
    "    shear_range=0.2,\n",
    "    zoom_range=0.2,\n",
    "    horizontal_flip=True\n",
    ")\n",
    "\n",
    "test_datagen = ImageDataGenerator(rescale=1./255)\n",
    "\n",
    "# Load and augment training data\n",
    "train_generator = train_datagen.flow_from_directory(\n",
    "    train_dir,\n",
    "    target_size=(100, 100),\n",
    "    batch_size=32,\n",
    "    class_mode='binary'\n",
    ")\n",
    "\n",
    "# Load testing data\n",
    "test_generator = test_datagen.flow_from_directory(\n",
    "    test_dir,\n",
    "    target_size=(100, 100),\n",
    "    batch_size=32,\n",
    "    class_mode='binary'\n",
    ")\n",
    "\n",
    "# Build CNN model\n",
    "model = Sequential([\n",
    "    Conv2D(32, (3, 3), activation='relu', input_shape=(100, 100, 3)),\n",
    "    MaxPooling2D((2, 2)),\n",
    "    Conv2D(64, (3, 3), activation='relu'),\n",
    "    MaxPooling2D((2, 2)),\n",
    "    Conv2D(128, (3, 3), activation='relu'),\n",
    "    MaxPooling2D((2, 2)),\n",
    "    Flatten(),\n",
    "    Dense(128, activation='relu'),\n",
    "    Dropout(0.5),  # Add dropout for regularization\n",
    "    Dense(1, activation='sigmoid')  # 1 output neuron for binary classification\n",
    "])\n",
    "\n",
    "# Compile model\n",
    "optimizer = Adam(lr=0.001)  # Adjust learning rate if needed\n",
    "model.compile(optimizer=optimizer,\n",
    "              loss='binary_crossentropy',\n",
    "              metrics=['accuracy'])\n",
    "\n",
    "# Train model\n",
    "model.fit(train_generator,\n",
    "          steps_per_epoch=train_generator.samples // train_generator.batch_size,\n",
    "          epochs=10,\n",
    "          validation_data=test_generator,\n",
    "          validation_steps=test_generator.samples // test_generator.batch_size)\n",
    "\n",
    "# Evaluate model\n",
    "loss, accuracy = model.evaluate(test_generator)\n",
    "print(\"Test Accuracy:\", accuracy)"
   ]
  },
  {
   "cell_type": "code",
   "execution_count": 20,
   "metadata": {},
   "outputs": [],
   "source": [
    "model.save(\"pear_freshness.h5\")"
   ]
  },
  {
   "cell_type": "code",
   "execution_count": 21,
   "metadata": {},
   "outputs": [
    {
     "name": "stderr",
     "output_type": "stream",
     "text": [
      "WARNING:absl:Found untraced functions such as _jit_compiled_convolution_op, _jit_compiled_convolution_op, _jit_compiled_convolution_op while saving (showing 3 of 3). These functions will not be directly callable after loading.\n"
     ]
    },
    {
     "name": "stdout",
     "output_type": "stream",
     "text": [
      "INFO:tensorflow:Assets written to: C:\\Users\\avi11\\AppData\\Local\\Temp\\tmptfw_0lhb\\assets\n"
     ]
    },
    {
     "name": "stderr",
     "output_type": "stream",
     "text": [
      "INFO:tensorflow:Assets written to: C:\\Users\\avi11\\AppData\\Local\\Temp\\tmptfw_0lhb\\assets\n"
     ]
    }
   ],
   "source": [
    "import tensorflow as tf\n",
    "from keras.models import load_model\n",
    "\n",
    "# Step 1: Load the Keras Model\n",
    "model = load_model('pear_freshness.h5')\n",
    "\n",
    "# Step 2: Convert to TensorFlow Lite Model\n",
    "converter = tf.lite.TFLiteConverter.from_keras_model(model)\n",
    "tflite_model = converter.convert()\n",
    "\n",
    "# Step 3: Save TensorFlow Lite Model\n",
    "with open('pear_freshness.tflite', 'wb') as f:\n",
    "    f.write(tflite_model)"
   ]
  },
  {
   "cell_type": "code",
   "execution_count": 22,
   "metadata": {},
   "outputs": [
    {
     "name": "stdout",
     "output_type": "stream",
     "text": [
      "Found 1165 images belonging to 2 classes.\n",
      "Found 526 images belonging to 2 classes.\n"
     ]
    },
    {
     "name": "stderr",
     "output_type": "stream",
     "text": [
      "d:\\python\\Lib\\site-packages\\keras\\optimizers\\legacy\\adam.py:117: UserWarning: The `lr` argument is deprecated, use `learning_rate` instead.\n",
      "  super().__init__(name, **kwargs)\n"
     ]
    },
    {
     "name": "stdout",
     "output_type": "stream",
     "text": [
      "Epoch 1/10\n",
      "36/36 [==============================] - 17s 455ms/step - loss: 0.4816 - accuracy: 0.7387 - val_loss: 0.7464 - val_accuracy: 0.4375\n",
      "Epoch 2/10\n",
      "36/36 [==============================] - 9s 237ms/step - loss: 0.2984 - accuracy: 0.8438 - val_loss: 0.9785 - val_accuracy: 0.4766\n",
      "Epoch 3/10\n",
      "36/36 [==============================] - 9s 237ms/step - loss: 0.2042 - accuracy: 0.9312 - val_loss: 0.8700 - val_accuracy: 0.5410\n",
      "Epoch 4/10\n",
      "36/36 [==============================] - 9s 242ms/step - loss: 0.1666 - accuracy: 0.9426 - val_loss: 1.0391 - val_accuracy: 0.5293\n",
      "Epoch 5/10\n",
      "36/36 [==============================] - 9s 240ms/step - loss: 0.1532 - accuracy: 0.9506 - val_loss: 0.6455 - val_accuracy: 0.7012\n",
      "Epoch 6/10\n",
      "36/36 [==============================] - 9s 245ms/step - loss: 0.1449 - accuracy: 0.9620 - val_loss: 1.4381 - val_accuracy: 0.5176\n",
      "Epoch 7/10\n",
      "36/36 [==============================] - 9s 239ms/step - loss: 0.1276 - accuracy: 0.9620 - val_loss: 1.0935 - val_accuracy: 0.5352\n",
      "Epoch 8/10\n",
      "36/36 [==============================] - 9s 238ms/step - loss: 0.1253 - accuracy: 0.9656 - val_loss: 0.9004 - val_accuracy: 0.5273\n",
      "Epoch 9/10\n",
      "36/36 [==============================] - 9s 239ms/step - loss: 0.1089 - accuracy: 0.9709 - val_loss: 0.7920 - val_accuracy: 0.6953\n",
      "Epoch 10/10\n",
      "36/36 [==============================] - 9s 240ms/step - loss: 0.1255 - accuracy: 0.9665 - val_loss: 0.7130 - val_accuracy: 0.6738\n",
      "17/17 [==============================] - 1s 52ms/step - loss: 0.7066 - accuracy: 0.6749\n",
      "Test Accuracy: 0.6749049425125122\n"
     ]
    }
   ],
   "source": [
    "#Strawberry\n",
    "from keras.preprocessing.image import ImageDataGenerator\n",
    "from keras.models import Sequential\n",
    "from keras.layers import Conv2D, MaxPooling2D, Flatten, Dense, Dropout\n",
    "from keras.optimizers import Adam\n",
    "from sklearn.model_selection import train_test_split\n",
    "\n",
    "# Split dataset into training and testing sets\n",
    "train_dir = \"C:/Users/avi11/Downloads/Dataset/Strawberry/train\"\n",
    "test_dir = \"C:/Users/avi11/Downloads/Dataset/Strawberry/test\"\n",
    "\n",
    "# Define data generators\n",
    "train_datagen = ImageDataGenerator(\n",
    "    rescale=1./255,\n",
    "    rotation_range=20,\n",
    "    width_shift_range=0.1,\n",
    "    height_shift_range=0.1,\n",
    "    shear_range=0.2,\n",
    "    zoom_range=0.2,\n",
    "    horizontal_flip=True\n",
    ")\n",
    "\n",
    "test_datagen = ImageDataGenerator(rescale=1./255)\n",
    "\n",
    "# Load and augment training data\n",
    "train_generator = train_datagen.flow_from_directory(\n",
    "    train_dir,\n",
    "    target_size=(100, 100),\n",
    "    batch_size=32,\n",
    "    class_mode='binary'\n",
    ")\n",
    "\n",
    "# Load testing data\n",
    "test_generator = test_datagen.flow_from_directory(\n",
    "    test_dir,\n",
    "    target_size=(100, 100),\n",
    "    batch_size=32,\n",
    "    class_mode='binary'\n",
    ")\n",
    "\n",
    "# Build CNN model\n",
    "model = Sequential([\n",
    "    Conv2D(32, (3, 3), activation='relu', input_shape=(100, 100, 3)),\n",
    "    MaxPooling2D((2, 2)),\n",
    "    Conv2D(64, (3, 3), activation='relu'),\n",
    "    MaxPooling2D((2, 2)),\n",
    "    Conv2D(128, (3, 3), activation='relu'),\n",
    "    MaxPooling2D((2, 2)),\n",
    "    Flatten(),\n",
    "    Dense(128, activation='relu'),\n",
    "    Dropout(0.5),  # Add dropout for regularization\n",
    "    Dense(1, activation='sigmoid')  # 1 output neuron for binary classification\n",
    "])\n",
    "\n",
    "# Compile model\n",
    "optimizer = Adam(lr=0.001)  # Adjust learning rate if needed\n",
    "model.compile(optimizer=optimizer,\n",
    "              loss='binary_crossentropy',\n",
    "              metrics=['accuracy'])\n",
    "\n",
    "# Train model\n",
    "model.fit(train_generator,\n",
    "          steps_per_epoch=train_generator.samples // train_generator.batch_size,\n",
    "          epochs=10,\n",
    "          validation_data=test_generator,\n",
    "          validation_steps=test_generator.samples // test_generator.batch_size)\n",
    "\n",
    "# Evaluate model\n",
    "loss, accuracy = model.evaluate(test_generator)\n",
    "print(\"Test Accuracy:\", accuracy)"
   ]
  },
  {
   "cell_type": "code",
   "execution_count": 23,
   "metadata": {},
   "outputs": [],
   "source": [
    "model.save(\"strawberry_freshness.h5\")"
   ]
  },
  {
   "cell_type": "code",
   "execution_count": 24,
   "metadata": {},
   "outputs": [
    {
     "name": "stderr",
     "output_type": "stream",
     "text": [
      "WARNING:absl:Found untraced functions such as _jit_compiled_convolution_op, _jit_compiled_convolution_op, _jit_compiled_convolution_op while saving (showing 3 of 3). These functions will not be directly callable after loading.\n"
     ]
    },
    {
     "name": "stdout",
     "output_type": "stream",
     "text": [
      "INFO:tensorflow:Assets written to: C:\\Users\\avi11\\AppData\\Local\\Temp\\tmp5rz218rw\\assets\n"
     ]
    },
    {
     "name": "stderr",
     "output_type": "stream",
     "text": [
      "INFO:tensorflow:Assets written to: C:\\Users\\avi11\\AppData\\Local\\Temp\\tmp5rz218rw\\assets\n"
     ]
    }
   ],
   "source": [
    "import tensorflow as tf\n",
    "from keras.models import load_model\n",
    "\n",
    "# Step 1: Load the Keras Model\n",
    "model = load_model('strawberry_freshness.h5')\n",
    "\n",
    "# Step 2: Convert to TensorFlow Lite Model\n",
    "converter = tf.lite.TFLiteConverter.from_keras_model(model)\n",
    "tflite_model = converter.convert()\n",
    "\n",
    "# Step 3: Save TensorFlow Lite Model\n",
    "with open('strawberry_freshness.tflite', 'wb') as f:\n",
    "    f.write(tflite_model)"
   ]
  }
 ],
 "metadata": {
  "kernelspec": {
   "display_name": "Python 3",
   "language": "python",
   "name": "python3"
  },
  "language_info": {
   "codemirror_mode": {
    "name": "ipython",
    "version": 3
   },
   "file_extension": ".py",
   "mimetype": "text/x-python",
   "name": "python",
   "nbconvert_exporter": "python",
   "pygments_lexer": "ipython3",
   "version": "3.11.3"
  }
 },
 "nbformat": 4,
 "nbformat_minor": 2
}
